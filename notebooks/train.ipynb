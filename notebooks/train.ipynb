{
 "cells": [
  {
   "cell_type": "markdown",
   "metadata": {
    "id": "5mwT6kOsnxNu"
   },
   "source": [
    "## Requirements"
   ]
  },
  {
   "cell_type": "code",
   "execution_count": null,
   "metadata": {
    "colab": {
     "base_uri": "https://localhost:8080/"
    },
    "id": "CDa4TjwSou33",
    "outputId": "442207b5-8355-4175-d054-33944162dfbe"
   },
   "outputs": [],
   "source": [
    "! apt install rar >> /dev/null"
   ]
  },
  {
   "cell_type": "code",
   "execution_count": null,
   "metadata": {
    "colab": {
     "base_uri": "https://localhost:8080/"
    },
    "id": "aS37HlLumzxh",
    "outputId": "2bf6d340-7e54-4553-e8d5-617ed697dcd3"
   },
   "outputs": [],
   "source": [
    "! git clone https://github.com/catalyst-team/introspection"
   ]
  },
  {
   "cell_type": "code",
   "execution_count": null,
   "metadata": {
    "colab": {
     "base_uri": "https://localhost:8080/"
    },
    "id": "X5_lrPrsnCkV",
    "outputId": "3ffe6171-86b5-46bd-c3f6-0db514eca08e"
   },
   "outputs": [],
   "source": [
    "! pip install -q -r ./introspection/requirements.txt"
   ]
  },
  {
   "cell_type": "code",
   "execution_count": null,
   "metadata": {},
   "outputs": [],
   "source": [
    "# colab fix\n",
    "! pip install opencv-python-headless==4.1.2.30"
   ]
  },
  {
   "cell_type": "markdown",
   "metadata": {
    "id": "n_SaBaNWnRIb"
   },
   "source": [
    "## Image"
   ]
  },
  {
   "cell_type": "code",
   "execution_count": null,
   "metadata": {
    "id": "EjaplwCtnJlW"
   },
   "outputs": [],
   "source": [
    "! PYTHONPATH=./introspection python introspection/scripts/train_image.py"
   ]
  },
  {
   "cell_type": "code",
   "execution_count": null,
   "metadata": {
    "id": "mJ09azXknczz"
   },
   "outputs": [],
   "source": [
    "! PYTHONPATH=./introspection python introspection/scripts/train_image.py --use-ml"
   ]
  },
  {
   "cell_type": "markdown",
   "metadata": {
    "id": "gdEEiGein3wn"
   },
   "source": [
    "## Video"
   ]
  },
  {
   "cell_type": "code",
   "execution_count": null,
   "metadata": {
    "colab": {
     "base_uri": "https://localhost:8080/"
    },
    "id": "_TrRnGjcn4nS",
    "outputId": "f4dbe109-6a37-4e62-b5f0-3b846c4ba13e"
   },
   "outputs": [],
   "source": [
    "! cd introspection/data && wget https://www.crcv.ucf.edu/data/UCF11_updated_mpg.rar --no-check-certificat\n",
    "! unrar x ./introspection/data/UCF11_updated_mpg.rar >> /dev/null\n",
    "! mv ./UCF11_updated_mpg ./introspection/data/UCF11_updated_mpg"
   ]
  },
  {
   "cell_type": "code",
   "execution_count": null,
   "metadata": {
    "colab": {
     "base_uri": "https://localhost:8080/"
    },
    "id": "IPGMsErEoObe",
    "outputId": "67317434-aeb4-455d-803c-8fb5d1f7f423"
   },
   "outputs": [],
   "source": [
    "! python introspection/data/scripts/split_ucf11.py \\\n",
    "    -i=./introspection/data/UCF11_updated_mpg \\\n",
    "    -o=./introspection/data/UCF11_updated_mpg_clean"
   ]
  },
  {
   "cell_type": "code",
   "execution_count": null,
   "metadata": {
    "id": "jjA6Jjt0orlJ"
   },
   "outputs": [],
   "source": [
    "! PYTHONPATH=./introspection python introspection/scripts/train_video.py"
   ]
  },
  {
   "cell_type": "code",
   "execution_count": null,
   "metadata": {
    "colab": {
     "base_uri": "https://localhost:8080/"
    },
    "id": "WsoR8e1Dtxhl",
    "outputId": "2fdff068-0c01-454a-a08f-dc7e52099ca6"
   },
   "outputs": [],
   "source": [
    "! PYTHONPATH=./introspection python introspection/scripts/train_video.py --freeze-encoder"
   ]
  },
  {
   "cell_type": "code",
   "execution_count": null,
   "metadata": {
    "id": "DENIXIact6Xl"
   },
   "outputs": [],
   "source": [
    "! PYTHONPATH=./introspection python introspection/scripts/train_video.py --use-ml"
   ]
  },
  {
   "cell_type": "code",
   "execution_count": null,
   "metadata": {
    "id": "69-5HI89t6MI"
   },
   "outputs": [],
   "source": [
    "! PYTHONPATH=./introspection python introspection/scripts/train_video.py --freeze-encoder --use-ml"
   ]
  }
 ],
 "metadata": {
  "accelerator": "GPU",
  "colab": {
   "collapsed_sections": [],
   "name": "introspection-train",
   "provenance": []
  },
  "kernelspec": {
   "display_name": "Python 3",
   "language": "python",
   "name": "python3"
  },
  "language_info": {
   "codemirror_mode": {
    "name": "ipython",
    "version": 3
   },
   "file_extension": ".py",
   "mimetype": "text/x-python",
   "name": "python",
   "nbconvert_exporter": "python",
   "pygments_lexer": "ipython3",
   "version": "3.7.10"
  }
 },
 "nbformat": 4,
 "nbformat_minor": 1
}
