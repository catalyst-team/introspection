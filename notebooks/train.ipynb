{
 "cells": [
  {
   "cell_type": "markdown",
   "metadata": {
    "id": "5mwT6kOsnxNu"
   },
   "source": [
    "## Requirements"
   ]
  },
  {
   "cell_type": "code",
   "execution_count": 1,
   "metadata": {
    "colab": {
     "base_uri": "https://localhost:8080/"
    },
    "id": "CDa4TjwSou33",
    "outputId": "442207b5-8355-4175-d054-33944162dfbe"
   },
   "outputs": [
    {
     "name": "stdout",
     "output_type": "stream",
     "text": [
      "The operation couldn’t be completed. Unable to locate a Java Runtime that supports apt.\n",
      "Please visit http://www.java.com for information on installing Java.\n",
      "\n"
     ]
    }
   ],
   "source": [
    "! apt install rar >> /dev/null"
   ]
  },
  {
   "cell_type": "code",
   "execution_count": 2,
   "metadata": {
    "colab": {
     "base_uri": "https://localhost:8080/"
    },
    "id": "aS37HlLumzxh",
    "outputId": "2bf6d340-7e54-4553-e8d5-617ed697dcd3"
   },
   "outputs": [
    {
     "name": "stdout",
     "output_type": "stream",
     "text": [
      "Cloning into 'introspection'...\n",
      "remote: Enumerating objects: 127, done.\u001b[K\n",
      "remote: Counting objects: 100% (127/127), done.\u001b[K\n",
      "remote: Compressing objects: 100% (75/75), done.\u001b[K\n",
      "remote: Total 127 (delta 54), reused 106 (delta 37), pack-reused 0\u001b[K\n",
      "Receiving objects: 100% (127/127), 2.77 MiB | 10.95 MiB/s, done.\n",
      "Resolving deltas: 100% (54/54), done.\n"
     ]
    }
   ],
   "source": [
    "! git clone https://github.com/paavalipopov/introspection"
   ]
  },
  {
   "cell_type": "code",
   "execution_count": 3,
   "metadata": {
    "colab": {
     "base_uri": "https://localhost:8080/"
    },
    "id": "X5_lrPrsnCkV",
    "outputId": "3ffe6171-86b5-46bd-c3f6-0db514eca08e"
   },
   "outputs": [
    {
     "name": "stdout",
     "output_type": "stream",
     "text": [
      "\u001b[33mWARNING: You are using pip version 22.0.3; however, version 22.0.4 is available.\n",
      "You should consider upgrading via the '/Users/pavelpopov/.pyenv/versions/3.7.12/bin/python3.7 -m pip install --upgrade pip' command.\u001b[0m\u001b[33m\n",
      "\u001b[0m"
     ]
    }
   ],
   "source": [
    "! pip install -q -r ./introspection/requirements.txt"
   ]
  },
  {
   "cell_type": "code",
   "execution_count": 4,
   "metadata": {},
   "outputs": [
    {
     "name": "stdout",
     "output_type": "stream",
     "text": [
      "Collecting opencv-python-headless==4.1.2.30\n",
      "  Downloading opencv_python_headless-4.1.2.30-cp37-cp37m-macosx_10_9_x86_64.whl (39.1 MB)\n",
      "\u001b[2K     \u001b[90m━━━━━━━━━━━━━━━━━━━━━━━━━━━━━━━━━━━━━━━━\u001b[0m \u001b[32m39.1/39.1 MB\u001b[0m \u001b[31m16.3 MB/s\u001b[0m eta \u001b[36m0:00:00\u001b[0m00:01\u001b[0m00:01\u001b[0m\n",
      "\u001b[?25hRequirement already satisfied: numpy>=1.14.5 in /Users/pavelpopov/.pyenv/versions/3.7.12/lib/python3.7/site-packages (from opencv-python-headless==4.1.2.30) (1.21.5)\n",
      "Installing collected packages: opencv-python-headless\n",
      "  Attempting uninstall: opencv-python-headless\n",
      "    Found existing installation: opencv-python-headless 4.5.5.62\n",
      "    Uninstalling opencv-python-headless-4.5.5.62:\n",
      "      Successfully uninstalled opencv-python-headless-4.5.5.62\n",
      "Successfully installed opencv-python-headless-4.1.2.30\n",
      "\u001b[33mWARNING: You are using pip version 22.0.3; however, version 22.0.4 is available.\n",
      "You should consider upgrading via the '/Users/pavelpopov/.pyenv/versions/3.7.12/bin/python3.7 -m pip install --upgrade pip' command.\u001b[0m\u001b[33m\n",
      "\u001b[0m"
     ]
    }
   ],
   "source": [
    "# colab fix\n",
    "! pip install opencv-python-headless==4.1.2.30"
   ]
  },
  {
   "cell_type": "markdown",
   "metadata": {
    "id": "n_SaBaNWnRIb"
   },
   "source": [
    "## Image"
   ]
  },
  {
   "cell_type": "code",
   "execution_count": null,
   "metadata": {
    "id": "EjaplwCtnJlW"
   },
   "outputs": [],
   "source": [
    "! PYTHONPATH=./introspection python introspection/scripts/train_image.py"
   ]
  },
  {
   "cell_type": "code",
   "execution_count": null,
   "metadata": {
    "id": "mJ09azXknczz"
   },
   "outputs": [],
   "source": [
    "! PYTHONPATH=./introspection python introspection/scripts/train_image.py --use-ml"
   ]
  },
  {
   "cell_type": "markdown",
   "metadata": {
    "id": "gdEEiGein3wn"
   },
   "source": [
    "## Video"
   ]
  },
  {
   "cell_type": "code",
   "execution_count": 7,
   "metadata": {
    "colab": {
     "base_uri": "https://localhost:8080/"
    },
    "id": "_TrRnGjcn4nS",
    "outputId": "f4dbe109-6a37-4e62-b5f0-3b846c4ba13e"
   },
   "outputs": [],
   "source": [
    "! cd introspection/data #&& wget https://www.crcv.ucf.edu/data/UCF11_updated_mpg.rar --no-check-certificat\n",
    "! unrar x ./introspection/data/UCF11_updated_mpg.rar >> /dev/null\n",
    "! mv ./UCF11_updated_mpg ./introspection/data/UCF11_updated_mpg"
   ]
  },
  {
   "cell_type": "code",
   "execution_count": 8,
   "metadata": {
    "colab": {
     "base_uri": "https://localhost:8080/"
    },
    "id": "IPGMsErEoObe",
    "outputId": "67317434-aeb4-455d-803c-8fb5d1f7f423"
   },
   "outputs": [
    {
     "name": "stdout",
     "output_type": "stream",
     "text": [
      "100%|█████████████████████████████████████████| 220/220 [01:01<00:00,  3.58it/s]\n",
      "100%|███████████████████████████████████████████| 55/55 [00:14<00:00,  3.70it/s]\n"
     ]
    }
   ],
   "source": [
    "! python introspection/data/scripts/split_ucf11.py \\\n",
    "    -i=./introspection/data/UCF11_updated_mpg \\\n",
    "    -o=./introspection/data/UCF11_updated_mpg_clean"
   ]
  },
  {
   "cell_type": "code",
   "execution_count": null,
   "metadata": {
    "id": "jjA6Jjt0orlJ"
   },
   "outputs": [],
   "source": [
    "! PYTHONPATH=./introspection python introspection/scripts/train_video.py"
   ]
  },
  {
   "cell_type": "code",
   "execution_count": null,
   "metadata": {
    "colab": {
     "base_uri": "https://localhost:8080/"
    },
    "id": "WsoR8e1Dtxhl",
    "outputId": "2fdff068-0c01-454a-a08f-dc7e52099ca6"
   },
   "outputs": [],
   "source": [
    "! PYTHONPATH=./introspection python introspection/scripts/train_video.py --freeze-encoder"
   ]
  },
  {
   "cell_type": "code",
   "execution_count": null,
   "metadata": {
    "id": "DENIXIact6Xl"
   },
   "outputs": [],
   "source": [
    "! PYTHONPATH=./introspection python introspection/scripts/train_video.py --use-ml"
   ]
  },
  {
   "cell_type": "code",
   "execution_count": null,
   "metadata": {
    "id": "69-5HI89t6MI"
   },
   "outputs": [],
   "source": [
    "! PYTHONPATH=./introspection python introspection/scripts/train_video.py --freeze-encoder --use-ml"
   ]
  }
 ],
 "metadata": {
  "accelerator": "GPU",
  "colab": {
   "collapsed_sections": [],
   "name": "introspection-train",
   "provenance": []
  },
  "kernelspec": {
   "display_name": "Python 3",
   "language": "python",
   "name": "python3"
  },
  "language_info": {
   "codemirror_mode": {
    "name": "ipython",
    "version": 3
   },
   "file_extension": ".py",
   "mimetype": "text/x-python",
   "name": "python",
   "nbconvert_exporter": "python",
   "pygments_lexer": "ipython3",
   "version": "3.7.12"
  }
 },
 "nbformat": 4,
 "nbformat_minor": 1
}
