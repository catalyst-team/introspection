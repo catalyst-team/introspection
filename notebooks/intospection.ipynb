{
 "cells": [
  {
   "cell_type": "code",
   "execution_count": null,
   "id": "f8726307",
   "metadata": {},
   "outputs": [],
   "source": [
    "import os\n",
    "import sys\n",
    "import path\n",
    "os.environ[\"OMP_NUM_THREADS\"] = \"1\"\n",
    "os.environ[\"MKL_NUM_THREADS\"] = \"1\"\n",
    "sys.path.insert(0, path.Path(os.getcwd()).joinpath(\"..\").abspath())"
   ]
  },
  {
   "cell_type": "markdown",
   "id": "281045e2",
   "metadata": {},
   "source": [
    "## Common"
   ]
  },
  {
   "cell_type": "code",
   "execution_count": null,
   "id": "a2b5fa57",
   "metadata": {},
   "outputs": [],
   "source": [
    "import os\n",
    "\n",
    "import numpy as np\n",
    "import pandas as pd\n",
    "import torch\n",
    "\n",
    "from catalyst import utils\n",
    "from catalyst.data import transforms\n",
    "from catalyst.contrib.datasets import CIFAR10\n",
    "\n",
    "from captum.attr import visualization as viz\n",
    "from captum.attr import (\n",
    "    Saliency, \n",
    "    IntegratedGradients,\n",
    "    NoiseTunnel,\n",
    "    LayerGradCam, \n",
    "    FeatureAblation, \n",
    "    LayerActivation, \n",
    "    LayerAttribution\n",
    ")\n",
    "\n",
    "import matplotlib.pyplot as plt\n",
    "from matplotlib.colors import LinearSegmentedColormap\n",
    "%matplotlib inline"
   ]
  },
  {
   "cell_type": "code",
   "execution_count": null,
   "id": "817e4609",
   "metadata": {},
   "outputs": [],
   "source": [
    "def unnormalize(tensor: torch.Tensor, mean, std, inplace=False):\n",
    "    \"\"\"Normalize a tensor image with mean and standard deviation.\n",
    "\n",
    "    .. note::\n",
    "        This transform acts out of place by default, i.e., it does not mutates the input tensor.\n",
    "\n",
    "    Args:\n",
    "        tensor: Tensor image of size (C, H, W) to be normalized.\n",
    "        mean: Sequence of means for each channel.\n",
    "        std: Sequence of standard deviations for each channel.\n",
    "        inplace(bool,optional): Bool to make this operation inplace.\n",
    "\n",
    "    Returns:\n",
    "        torch.Tensor: Normalized Tensor image.\n",
    "\n",
    "    Raises:\n",
    "        TypeError: if `tensor` is not torch.Tensor\n",
    "    \"\"\"\n",
    "    if not (torch.is_tensor(tensor) and tensor.ndimension() == 3):\n",
    "        raise TypeError(\"tensor is not a torch image.\")\n",
    "\n",
    "    if not inplace:\n",
    "        tensor = tensor.clone()\n",
    "\n",
    "    dtype = tensor.dtype\n",
    "    mean = torch.as_tensor(mean, dtype=dtype, device=tensor.device)\n",
    "    std = torch.as_tensor(std, dtype=dtype, device=tensor.device)\n",
    "    tensor.mul_(std[:, None, None]).add_(mean[:, None, None])\n",
    "    return tensor"
   ]
  },
  {
   "cell_type": "code",
   "execution_count": null,
   "id": "7c2e59a7",
   "metadata": {},
   "outputs": [],
   "source": [
    "class ModelWrapper(torch.nn.Module):\n",
    "    def __init__(self, module):\n",
    "        super().__init__()\n",
    "        self.module = module\n",
    "    def forward(self, x):\n",
    "        _, y = self.module(x)\n",
    "        return y"
   ]
  },
  {
   "cell_type": "code",
   "execution_count": null,
   "id": "94fc96ae",
   "metadata": {},
   "outputs": [],
   "source": [
    "def attribute_image_features(algorithm, model, features, label, **kwargs):\n",
    "    model.zero_grad()\n",
    "    tensor_attributions = algorithm.attribute(\n",
    "        features,\n",
    "        target=label, \n",
    "        **kwargs\n",
    "    )\n",
    "    \n",
    "    return tensor_attributions"
   ]
  },
  {
   "cell_type": "markdown",
   "id": "5f619199",
   "metadata": {},
   "source": [
    "### Image"
   ]
  },
  {
   "cell_type": "code",
   "execution_count": null,
   "id": "d4367fb4",
   "metadata": {},
   "outputs": [],
   "source": [
    "transform = transforms.Compose([\n",
    "    transforms.ToTensor(), \n",
    "    transforms.Normalize((0.5, 0.5, 0.5), (0.5, 0.5, 0.5))\n",
    "])\n",
    "valid_dataset = CIFAR10(os.getcwd(), train=False, download=True, transform=transform)"
   ]
  },
  {
   "cell_type": "code",
   "execution_count": null,
   "id": "e4c070c9",
   "metadata": {},
   "outputs": [],
   "source": [
    "features, label = valid_dataset[10]\n",
    "\n",
    "features = torch.tensor(features).unsqueeze(0)\n",
    "features.requires_grad = True\n",
    "\n",
    "label = torch.tensor(label).unsqueeze(0)"
   ]
  },
  {
   "cell_type": "code",
   "execution_count": null,
   "id": "2a101811",
   "metadata": {},
   "outputs": [],
   "source": [
    "plt.imshow(\n",
    "    unnormalize(\n",
    "        features[0].detach(), \n",
    "        (0.5, 0.5, 0.5), \n",
    "        (0.5, 0.5, 0.5)\n",
    "    ).permute(1, 2, 0)\n",
    ")"
   ]
  },
  {
   "cell_type": "code",
   "execution_count": null,
   "id": "1922a558",
   "metadata": {},
   "outputs": [],
   "source": [
    "from image.train import resnet9\n",
    "\n",
    "logdir = \"../logs/.../\"\n",
    "checkpoint = utils.load_checkpoint(f\"{logdir}/checkpoints/best.pth\")\n",
    "model = resnet9(in_channels=3, num_classes=10)\n",
    "utils.unpack_checkpoint(checkpoint, model=model)\n",
    "model = ModelWrapper(model)"
   ]
  },
  {
   "cell_type": "code",
   "execution_count": null,
   "id": "2de0e345",
   "metadata": {},
   "outputs": [],
   "source": [
    "saliency = Saliency(model)\n",
    "grads = saliency.attribute(features, target=label.item())\n",
    "# grads = np.transpose(grads.squeeze().cpu().detach().numpy(), (1, 2, 0))"
   ]
  },
  {
   "cell_type": "code",
   "execution_count": null,
   "id": "87b5e46f",
   "metadata": {},
   "outputs": [],
   "source": [
    "ig = IntegratedGradients(model)\n",
    "attr_ig, delta = attribute_image_features(\n",
    "    ig, \n",
    "    model,\n",
    "    features, \n",
    "    label,\n",
    "    baselines=features * 0, \n",
    "    return_convergence_delta=True\n",
    ")\n",
    "# attr_ig = np.transpose(attr_ig.squeeze().cpu().detach().numpy(), (1, 2, 0))\n",
    "print('Approximation delta: ', abs(delta))"
   ]
  },
  {
   "cell_type": "code",
   "execution_count": null,
   "id": "301e779c",
   "metadata": {},
   "outputs": [],
   "source": [
    "ig = IntegratedGradients(model)\n",
    "nt = NoiseTunnel(ig)\n",
    "attr_ig_nt = attribute_image_features(\n",
    "    nt, \n",
    "    model,\n",
    "    features, \n",
    "    label,\n",
    "    baselines=features * 0, \n",
    "    nt_type='smoothgrad_sq',\n",
    "    nt_samples=100, \n",
    "    stdevs=0.2\n",
    ")"
   ]
  },
  {
   "cell_type": "code",
   "execution_count": null,
   "id": "1d680cbd",
   "metadata": {},
   "outputs": [],
   "source": [
    "plt.imshow(\n",
    "    unnormalize(\n",
    "        features[0].detach(), \n",
    "        (0.5, 0.5, 0.5), \n",
    "        (0.5, 0.5, 0.5)\n",
    "    ).permute(1, 2, 0)\n",
    ")"
   ]
  },
  {
   "cell_type": "code",
   "execution_count": null,
   "id": "4fb849e9",
   "metadata": {},
   "outputs": [],
   "source": [
    "# plt.matshow(grads.permute(0, 2, 3, 1).detach().cpu().numpy()[0])\n",
    "\n",
    "default_cmap = LinearSegmentedColormap.from_list(\n",
    "    'custom blue', \n",
    "    [(0, '#ffffff'), (0.25, '#000000'), (1, '#000000')], \n",
    "    N=256\n",
    ")\n",
    "\n",
    "_ = viz.visualize_image_attr(\n",
    "    np.transpose(grads.squeeze().cpu().detach().numpy(), (1,2,0)),\n",
    "    np.transpose(features.squeeze().cpu().detach().numpy(), (1,2,0)),\n",
    "    method='heat_map',\n",
    "    cmap=default_cmap,\n",
    "    show_colorbar=True,\n",
    "    sign='positive',\n",
    "    outlier_perc=1\n",
    ")"
   ]
  },
  {
   "cell_type": "code",
   "execution_count": null,
   "id": "b297ac59",
   "metadata": {},
   "outputs": [],
   "source": [
    "# plt.matshow(attr_ig.permute(0, 2, 3, 1).detach().cpu().numpy()[0])\n",
    "\n",
    "default_cmap = LinearSegmentedColormap.from_list(\n",
    "    'custom blue', \n",
    "    [(0, '#ffffff'), (0.25, '#000000'), (1, '#000000')], \n",
    "    N=256\n",
    ")\n",
    "\n",
    "_ = viz.visualize_image_attr(\n",
    "    np.transpose(attr_ig.squeeze().cpu().detach().numpy(), (1,2,0)),\n",
    "    np.transpose(features.squeeze().cpu().detach().numpy(), (1,2,0)),\n",
    "    method='heat_map',\n",
    "    cmap=default_cmap,\n",
    "    show_colorbar=True,\n",
    "    sign='positive',\n",
    "    outlier_perc=1\n",
    ")"
   ]
  },
  {
   "cell_type": "code",
   "execution_count": null,
   "id": "52793b4d",
   "metadata": {},
   "outputs": [],
   "source": [
    "# plt.matshow(attr_ig_nt.permute(0, 2, 3, 1).detach().cpu().numpy()[0])\n",
    "\n",
    "default_cmap = LinearSegmentedColormap.from_list(\n",
    "    'custom blue', \n",
    "    [(0, '#ffffff'), (0.25, '#000000'), (1, '#000000')], \n",
    "    N=256\n",
    ")\n",
    "\n",
    "_ = viz.visualize_image_attr(\n",
    "    np.transpose(attr_ig_nt.squeeze().cpu().detach().numpy(), (1,2,0)),\n",
    "    np.transpose(features.squeeze().cpu().detach().numpy(), (1,2,0)),\n",
    "    method='heat_map',\n",
    "    cmap=default_cmap,\n",
    "    show_colorbar=True,\n",
    "    sign='positive',\n",
    "    outlier_perc=1\n",
    ")"
   ]
  },
  {
   "cell_type": "markdown",
   "id": "26aed64e",
   "metadata": {},
   "source": [
    "#### Comparison"
   ]
  },
  {
   "cell_type": "code",
   "execution_count": null,
   "id": "7465bde2",
   "metadata": {},
   "outputs": [],
   "source": [
    "fig, axs = plt.subplots(1, 4, figsize=(21, 9))\n",
    "\n",
    "default_cmap = LinearSegmentedColormap.from_list(\n",
    "    'custom blue', \n",
    "    [(0, '#ffffff'), (0.25, '#000000'), (1, '#000000')], \n",
    "    N=256\n",
    ")\n",
    "\n",
    "axs[0].imshow(\n",
    "    unnormalize(\n",
    "        features[0].detach(), \n",
    "        (0.5, 0.5, 0.5), \n",
    "        (0.5, 0.5, 0.5)\n",
    "    ).permute(1, 2, 0)\n",
    ")\n",
    "\n",
    "for i, show_attr in enumerate([grads, attr_ig, attr_ig_nt]):\n",
    "    _ = viz.visualize_image_attr(\n",
    "        np.transpose(show_attr.squeeze().cpu().detach().numpy(), (1,2,0)),\n",
    "        np.transpose(features.squeeze().cpu().detach().numpy(), (1,2,0)),\n",
    "        method='heat_map',\n",
    "        cmap=default_cmap,\n",
    "        show_colorbar=True,\n",
    "        sign='positive',\n",
    "        outlier_perc=1,\n",
    "        plt_fig_axis=(fig, axs[i+1]),\n",
    "        use_pyplot=False,\n",
    "    )\n",
    "\n",
    "plt.show()"
   ]
  },
  {
   "cell_type": "markdown",
   "id": "e970f9e4",
   "metadata": {},
   "source": [
    "### Video"
   ]
  },
  {
   "cell_type": "code",
   "execution_count": null,
   "id": "52f8193d",
   "metadata": {},
   "outputs": [],
   "source": [
    "from introspection.datasets import TemporalDataset\n",
    "from introspection.settings import DATA_ROOT\n",
    "\n",
    "valid_csv = pd.read_csv(\n",
    "    f\"{DATA_ROOT}/UCF11_updated_mpg_clean/valid.csv\",\n",
    "    header=None,\n",
    "    names=[\"path\", \"class\", \"length\"],\n",
    ")\n",
    "\n",
    "num_segments = 1\n",
    "assert num_segments == 1\n",
    "segment_len = 5\n",
    "valid_dataset = TemporalDataset(\n",
    "    valid_csv,\n",
    "    f\"{DATA_ROOT}/UCF11_updated_mpg\",\n",
    "    num_segments=num_segments,\n",
    "    segment_len=segment_len,\n",
    ")"
   ]
  },
  {
   "cell_type": "code",
   "execution_count": null,
   "id": "8826584f",
   "metadata": {},
   "outputs": [],
   "source": [
    "features, label = valid_dataset[0]\n",
    "\n",
    "features = torch.tensor(features).unsqueeze(0)\n",
    "features.requires_grad = True\n",
    "\n",
    "label = torch.tensor(label).unsqueeze(0)"
   ]
  },
  {
   "cell_type": "code",
   "execution_count": null,
   "id": "2c1df464",
   "metadata": {},
   "outputs": [],
   "source": [
    "features.shape"
   ]
  },
  {
   "cell_type": "code",
   "execution_count": null,
   "id": "925ea652",
   "metadata": {},
   "outputs": [],
   "source": [
    "fig, axs = plt.subplots(num_segments, segment_len, figsize=(21, 9))\n",
    "for i in range(num_segments):\n",
    "    for j in range(segment_len):\n",
    "        axs[j].imshow(features[0, i*num_segments+j].detach().permute(1, 2, 0))\n",
    "\n",
    "plt.show()"
   ]
  },
  {
   "cell_type": "code",
   "execution_count": null,
   "id": "e3bb959d",
   "metadata": {},
   "outputs": [],
   "source": [
    "from introspection.modules import TemporalModel\n",
    "\n",
    "logdir = \"../logs/.../\"\n",
    "checkpoint = utils.load_checkpoint(f\"{logdir}/checkpoints/best.pth\")\n",
    "model = TemporalModel(emb_features=256, out_features=11)\n",
    "utils.unpack_checkpoint(checkpoint, model=model)\n",
    "model = ModelWrapper(model)"
   ]
  },
  {
   "cell_type": "code",
   "execution_count": null,
   "id": "f1df6e04",
   "metadata": {},
   "outputs": [],
   "source": [
    "saliency = Saliency(model)\n",
    "grads = saliency.attribute(features, target=label.item())\n",
    "# grads = np.transpose(grads.squeeze().cpu().detach().numpy(), (1, 2, 0))"
   ]
  },
  {
   "cell_type": "code",
   "execution_count": null,
   "id": "b8171516",
   "metadata": {},
   "outputs": [],
   "source": [
    "ig = IntegratedGradients(model)\n",
    "attr_ig, delta = attribute_image_features(\n",
    "    ig, \n",
    "    model,\n",
    "    features, \n",
    "    label,\n",
    "    baselines=features * 0, \n",
    "    return_convergence_delta=True\n",
    ")\n",
    "# attr_ig = np.transpose(attr_ig.squeeze().cpu().detach().numpy(), (1, 2, 0))\n",
    "print('Approximation delta: ', abs(delta))"
   ]
  },
  {
   "cell_type": "code",
   "execution_count": null,
   "id": "e49b86c1",
   "metadata": {},
   "outputs": [],
   "source": [
    "ig = IntegratedGradients(model)\n",
    "nt = NoiseTunnel(ig)\n",
    "attr_ig_nt = attribute_image_features(\n",
    "    nt, \n",
    "    model,\n",
    "    features, \n",
    "    label,\n",
    "    baselines=features * 0, \n",
    "    nt_type='smoothgrad_sq',\n",
    "    nt_samples=5, \n",
    "    stdevs=0.2\n",
    ")"
   ]
  },
  {
   "cell_type": "code",
   "execution_count": null,
   "id": "940fdfd1",
   "metadata": {},
   "outputs": [],
   "source": [
    "fig, axs = plt.subplots(num_segments, segment_len, figsize=(21, 9))\n",
    "for i in range(num_segments):\n",
    "    for j in range(segment_len):\n",
    "        axs[j].imshow(features[0, i*num_segments+j].detach().permute(1, 2, 0))\n",
    "\n",
    "plt.show()"
   ]
  },
  {
   "cell_type": "code",
   "execution_count": null,
   "id": "9345b626",
   "metadata": {},
   "outputs": [],
   "source": [
    "# plt.matshow(grads.permute(0, 2, 3, 1).detach().cpu().numpy()[0])\n",
    "fig, axs = plt.subplots(num_segments, segment_len, figsize=(21, 9))\n",
    "\n",
    "default_cmap = LinearSegmentedColormap.from_list(\n",
    "    'custom blue', \n",
    "    [(0, '#ffffff'), (0.25, '#000000'), (1, '#000000')], \n",
    "    N=256\n",
    ")\n",
    "\n",
    "for i in range(num_segments):\n",
    "    for j in range(segment_len):\n",
    "#         axs[i, j].imshow(grads[0, i*num_segments+j].detach().permute(1, 2, 0))\n",
    "        _ = viz.visualize_image_attr(\n",
    "            np.transpose(grads[0, i*num_segments+j].cpu().detach().numpy(), (1,2,0)),\n",
    "            np.transpose(features[0, i*num_segments+j].cpu().detach().numpy(), (1,2,0)),\n",
    "            method='heat_map',\n",
    "            cmap=default_cmap,\n",
    "            show_colorbar=True,\n",
    "            sign='positive',\n",
    "            outlier_perc=1,\n",
    "            plt_fig_axis=(fig, axs[j]),\n",
    "            use_pyplot=False,\n",
    "        )\n",
    "\n",
    "plt.show()"
   ]
  },
  {
   "cell_type": "code",
   "execution_count": null,
   "id": "79ba99ce",
   "metadata": {},
   "outputs": [],
   "source": [
    "# plt.matshow(attr_ig.permute(0, 2, 3, 1).detach().cpu().numpy()[0])\n",
    "fig, axs = plt.subplots(num_segments, segment_len, figsize=(21, 9))\n",
    "\n",
    "default_cmap = LinearSegmentedColormap.from_list(\n",
    "    'custom blue', \n",
    "    [(0, '#ffffff'), (0.25, '#000000'), (1, '#000000')], \n",
    "    N=256\n",
    ")\n",
    "\n",
    "for i in range(num_segments):\n",
    "    for j in range(segment_len):\n",
    "#         axs[i, j].imshow(attr_ig[0, i*num_segments+j].detach().permute(1, 2, 0))\n",
    "        _ = viz.visualize_image_attr(\n",
    "            np.transpose(attr_ig[0, i*num_segments+j].cpu().detach().numpy(), (1,2,0)),\n",
    "            np.transpose(features[0, i*num_segments+j].cpu().detach().numpy(), (1,2,0)),\n",
    "            method='heat_map',\n",
    "            cmap=default_cmap,\n",
    "            show_colorbar=True,\n",
    "            sign='positive',\n",
    "            outlier_perc=1,\n",
    "            plt_fig_axis=(fig, axs[j]),\n",
    "            use_pyplot=False,\n",
    "        )\n",
    "\n",
    "plt.show()"
   ]
  },
  {
   "cell_type": "code",
   "execution_count": null,
   "id": "543c5f27",
   "metadata": {},
   "outputs": [],
   "source": [
    "fig, axs = plt.subplots(num_segments, segment_len, figsize=(21, 9))\n",
    "\n",
    "default_cmap = LinearSegmentedColormap.from_list(\n",
    "    'custom blue', \n",
    "    [(0, '#ffffff'), (0.25, '#000000'), (1, '#000000')], \n",
    "    N=256\n",
    ")\n",
    "\n",
    "for i in range(num_segments):\n",
    "    for j in range(segment_len):\n",
    "        _ = viz.visualize_image_attr(\n",
    "            np.transpose(attr_ig_nt[0, i*num_segments+j].cpu().detach().numpy(), (1,2,0)),\n",
    "            np.transpose(features[0, i*num_segments+j].cpu().detach().numpy(), (1,2,0)),\n",
    "            method='heat_map',\n",
    "            cmap=default_cmap,\n",
    "            show_colorbar=True,\n",
    "            sign='positive',\n",
    "            outlier_perc=1,\n",
    "            plt_fig_axis=(fig, axs[j]),\n",
    "            use_pyplot=False,\n",
    "        )\n",
    "\n",
    "plt.show()"
   ]
  },
  {
   "cell_type": "markdown",
   "id": "1eb67969",
   "metadata": {},
   "source": [
    "#### Comparison"
   ]
  },
  {
   "cell_type": "code",
   "execution_count": null,
   "id": "be4e9007",
   "metadata": {},
   "outputs": [],
   "source": [
    "fig, axs = plt.subplots(4, segment_len, figsize=(21, 9))\n",
    "\n",
    "default_cmap = LinearSegmentedColormap.from_list(\n",
    "    'custom blue', \n",
    "    [(0, '#ffffff'), (0.25, '#000000'), (1, '#000000')], \n",
    "    N=256\n",
    ")\n",
    "\n",
    "for j in range(segment_len):\n",
    "    axs[0, j].imshow(features[0, j].detach().permute(1, 2, 0))\n",
    "\n",
    "for i, show_attr in enumerate([grads, attr_ig, attr_ig_nt]):\n",
    "    for j in range(segment_len):\n",
    "        _ = viz.visualize_image_attr(\n",
    "            np.transpose(show_attr[0, j].cpu().detach().numpy(), (1,2,0)),\n",
    "            np.transpose(features[0, j].cpu().detach().numpy(), (1,2,0)),\n",
    "            method='heat_map',\n",
    "            cmap=default_cmap,\n",
    "            show_colorbar=True,\n",
    "            sign='positive',\n",
    "            outlier_perc=1,\n",
    "            plt_fig_axis=(fig, axs[i+1, j]),\n",
    "            use_pyplot=False,\n",
    "        )\n",
    "\n",
    "plt.show()"
   ]
  },
  {
   "cell_type": "code",
   "execution_count": null,
   "id": "3637f13e",
   "metadata": {},
   "outputs": [],
   "source": []
  }
 ],
 "metadata": {
  "kernelspec": {
   "display_name": "Python [conda env:.conda-py37] *",
   "language": "python",
   "name": "conda-env-.conda-py37-py"
  },
  "language_info": {
   "codemirror_mode": {
    "name": "ipython",
    "version": 3
   },
   "file_extension": ".py",
   "mimetype": "text/x-python",
   "name": "python",
   "nbconvert_exporter": "python",
   "pygments_lexer": "ipython3",
   "version": "3.7.10"
  }
 },
 "nbformat": 4,
 "nbformat_minor": 5
}
