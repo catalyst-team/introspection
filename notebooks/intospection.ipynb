{
 "cells": [
  {
   "cell_type": "code",
   "execution_count": 1,
   "id": "f8726307",
   "metadata": {},
   "outputs": [],
   "source": [
    "import os\n",
    "import sys\n",
    "import path\n",
    "os.environ[\"OMP_NUM_THREADS\"] = \"1\"\n",
    "os.environ[\"MKL_NUM_THREADS\"] = \"1\"\n",
    "sys.path.insert(0, path.Path(os.getcwd()).joinpath(\"..\").abspath())"
   ]
  },
  {
   "cell_type": "code",
   "execution_count": 2,
   "id": "b3585420",
   "metadata": {},
   "outputs": [],
   "source": [
    "import matplotlib.pyplot as plt\n",
    "import seaborn as sns\n",
    "\n",
    "# from IPython.display import set_matplotlib_formats\n",
    "\n",
    "%matplotlib inline\n",
    "# set_matplotlib_formats(\"svg\")\n",
    "sns.set_theme(style=\"whitegrid\", font_scale=2, rc={\"figure.figsize\": (18, 9)})"
   ]
  },
  {
   "cell_type": "markdown",
   "id": "281045e2",
   "metadata": {},
   "source": [
    "## Common"
   ]
  },
  {
   "cell_type": "code",
   "execution_count": 3,
   "id": "a2b5fa57",
   "metadata": {},
   "outputs": [],
   "source": [
    "import os\n",
    "\n",
    "import numpy as np\n",
    "import pandas as pd\n",
    "import torch\n",
    "\n",
    "from captum.attr import visualization as viz\n",
    "from captum.attr import (\n",
    "    Saliency, \n",
    "    IntegratedGradients,\n",
    "    NoiseTunnel,\n",
    "    LayerGradCam, \n",
    "    FeatureAblation, \n",
    "    LayerActivation, \n",
    "    LayerAttribution\n",
    ")\n",
    "\n",
    "from matplotlib.colors import LinearSegmentedColormap"
   ]
  },
  {
   "cell_type": "markdown",
   "id": "19e83b56",
   "metadata": {},
   "source": [
    "## CV-based"
   ]
  },
  {
   "cell_type": "code",
   "execution_count": null,
   "id": "817e4609",
   "metadata": {},
   "outputs": [],
   "source": [
    "def unnormalize(tensor: torch.Tensor, mean, std, inplace=False):\n",
    "    \"\"\"Normalize a tensor image with mean and standard deviation.\n",
    "\n",
    "    .. note::\n",
    "        This transform acts out of place by default, i.e., it does not mutates the input tensor.\n",
    "\n",
    "    Args:\n",
    "        tensor: Tensor image of size (C, H, W) to be normalized.\n",
    "        mean: Sequence of means for each channel.\n",
    "        std: Sequence of standard deviations for each channel.\n",
    "        inplace(bool,optional): Bool to make this operation inplace.\n",
    "\n",
    "    Returns:\n",
    "        torch.Tensor: Normalized Tensor image.\n",
    "\n",
    "    Raises:\n",
    "        TypeError: if `tensor` is not torch.Tensor\n",
    "    \"\"\"\n",
    "    if not (torch.is_tensor(tensor) and tensor.ndimension() == 3):\n",
    "        raise TypeError(\"tensor is not a torch image.\")\n",
    "\n",
    "    if not inplace:\n",
    "        tensor = tensor.clone()\n",
    "\n",
    "    dtype = tensor.dtype\n",
    "    mean = torch.as_tensor(mean, dtype=dtype, device=tensor.device)\n",
    "    std = torch.as_tensor(std, dtype=dtype, device=tensor.device)\n",
    "    tensor.mul_(std[:, None, None]).add_(mean[:, None, None])\n",
    "    return tensor"
   ]
  },
  {
   "cell_type": "code",
   "execution_count": null,
   "id": "7c2e59a7",
   "metadata": {},
   "outputs": [],
   "source": [
    "class EncoderWrapper(torch.nn.Module):\n",
    "    def __init__(self, module):\n",
    "        super().__init__()\n",
    "        self.module = module\n",
    "    def forward(self, x):\n",
    "        x, _ = self.module(x)\n",
    "        return x\n",
    "\n",
    "class HeadWrapper(torch.nn.Module):\n",
    "    def __init__(self, module):\n",
    "        super().__init__()\n",
    "        self.module = module\n",
    "    def forward(self, x):\n",
    "        x = self.module.classifier(x).mean(1)\n",
    "        return x\n",
    "\n",
    "class ModelWrapper(torch.nn.Module):\n",
    "    def __init__(self, module):\n",
    "        super().__init__()\n",
    "        self.module = module\n",
    "    def forward(self, x):\n",
    "        _, x = self.module(x)\n",
    "        return x"
   ]
  },
  {
   "cell_type": "code",
   "execution_count": null,
   "id": "94fc96ae",
   "metadata": {},
   "outputs": [],
   "source": [
    "def attribute_image_features(algorithm, model, features, label, **kwargs):\n",
    "    model.zero_grad()\n",
    "    tensor_attributions = algorithm.attribute(\n",
    "        features,\n",
    "        target=label, \n",
    "        **kwargs\n",
    "    )\n",
    "    \n",
    "    return tensor_attributions"
   ]
  },
  {
   "cell_type": "markdown",
   "id": "5f619199",
   "metadata": {},
   "source": [
    "### Image"
   ]
  },
  {
   "cell_type": "code",
   "execution_count": null,
   "id": "d4367fb4",
   "metadata": {},
   "outputs": [],
   "source": [
    "from torchvision import datasets, transforms\n",
    "\n",
    "transform = transforms.Compose([\n",
    "    transforms.ToTensor(), \n",
    "    transforms.Normalize((0.4914, 0.4822, 0.4465), (0.2023, 0.1994, 0.2010))\n",
    "])\n",
    "valid_dataset = datasets.CIFAR10(os.getcwd(), train=False, download=True, transform=transform)"
   ]
  },
  {
   "cell_type": "code",
   "execution_count": null,
   "id": "e4c070c9",
   "metadata": {},
   "outputs": [],
   "source": [
    "features, label = valid_dataset[10]\n",
    "\n",
    "features = torch.tensor(features).unsqueeze(0)\n",
    "features.requires_grad = True\n",
    "\n",
    "label = torch.tensor(label).unsqueeze(0)"
   ]
  },
  {
   "cell_type": "code",
   "execution_count": null,
   "id": "2a101811",
   "metadata": {},
   "outputs": [],
   "source": [
    "plt.imshow(\n",
    "    unnormalize(\n",
    "        features[0].detach(), \n",
    "        (0.4914, 0.4822, 0.4465), \n",
    "        (0.2023, 0.1994, 0.2010)\n",
    "    ).permute(1, 2, 0)\n",
    ")"
   ]
  },
  {
   "cell_type": "code",
   "execution_count": null,
   "id": "1922a558",
   "metadata": {},
   "outputs": [],
   "source": [
    "from introspection.modules import resnet9\n",
    "\n",
    "logdir = \"../logs/.../\"\n",
    "checkpoint = utils.load_checkpoint(f\"{logdir}/checkpoints/best.pth\")\n",
    "model = resnet9(in_channels=3, num_classes=10)\n",
    "utils.unpack_checkpoint(checkpoint, model=model)\n",
    "model = ModelWrapper(model)"
   ]
  },
  {
   "cell_type": "code",
   "execution_count": null,
   "id": "2de0e345",
   "metadata": {},
   "outputs": [],
   "source": [
    "saliency = Saliency(model)\n",
    "grads = saliency.attribute(features, target=label.item())\n",
    "# grads = np.transpose(grads.squeeze().cpu().detach().numpy(), (1, 2, 0))"
   ]
  },
  {
   "cell_type": "code",
   "execution_count": null,
   "id": "87b5e46f",
   "metadata": {},
   "outputs": [],
   "source": [
    "ig = IntegratedGradients(model)\n",
    "attr_ig, delta = attribute_image_features(\n",
    "    ig, \n",
    "    model,\n",
    "    features, \n",
    "    label,\n",
    "    baselines=features * 0, \n",
    "    return_convergence_delta=True\n",
    ")\n",
    "# attr_ig = np.transpose(attr_ig.squeeze().cpu().detach().numpy(), (1, 2, 0))\n",
    "print('Approximation delta: ', abs(delta))"
   ]
  },
  {
   "cell_type": "code",
   "execution_count": null,
   "id": "301e779c",
   "metadata": {},
   "outputs": [],
   "source": [
    "ig = IntegratedGradients(model)\n",
    "nt = NoiseTunnel(ig)\n",
    "attr_ig_nt = attribute_image_features(\n",
    "    nt, \n",
    "    model,\n",
    "    features, \n",
    "    label,\n",
    "    baselines=features * 0, \n",
    "    nt_type='smoothgrad_sq',\n",
    "    nt_samples=100, \n",
    "    stdevs=0.2\n",
    ")"
   ]
  },
  {
   "cell_type": "code",
   "execution_count": null,
   "id": "1d680cbd",
   "metadata": {},
   "outputs": [],
   "source": [
    "plt.imshow(\n",
    "    unnormalize(\n",
    "        features[0].detach(), \n",
    "        (0.5, 0.5, 0.5), \n",
    "        (0.5, 0.5, 0.5)\n",
    "    ).permute(1, 2, 0)\n",
    ")"
   ]
  },
  {
   "cell_type": "code",
   "execution_count": null,
   "id": "4fb849e9",
   "metadata": {},
   "outputs": [],
   "source": [
    "# plt.matshow(grads.permute(0, 2, 3, 1).detach().cpu().numpy()[0])\n",
    "\n",
    "default_cmap = LinearSegmentedColormap.from_list(\n",
    "    'custom blue', \n",
    "    [(0, '#ffffff'), (0.25, '#000000'), (1, '#000000')], \n",
    "    N=256\n",
    ")\n",
    "\n",
    "_ = viz.visualize_image_attr(\n",
    "    np.transpose(grads.squeeze().cpu().detach().numpy(), (1,2,0)),\n",
    "    np.transpose(features.squeeze().cpu().detach().numpy(), (1,2,0)),\n",
    "    method='heat_map',\n",
    "    cmap=default_cmap,\n",
    "    show_colorbar=True,\n",
    "    sign='positive',\n",
    "    outlier_perc=1\n",
    ")"
   ]
  },
  {
   "cell_type": "code",
   "execution_count": null,
   "id": "b297ac59",
   "metadata": {},
   "outputs": [],
   "source": [
    "# plt.matshow(attr_ig.permute(0, 2, 3, 1).detach().cpu().numpy()[0])\n",
    "\n",
    "default_cmap = LinearSegmentedColormap.from_list(\n",
    "    'custom blue', \n",
    "    [(0, '#ffffff'), (0.25, '#000000'), (1, '#000000')], \n",
    "    N=256\n",
    ")\n",
    "\n",
    "_ = viz.visualize_image_attr(\n",
    "    np.transpose(attr_ig.squeeze().cpu().detach().numpy(), (1,2,0)),\n",
    "    np.transpose(features.squeeze().cpu().detach().numpy(), (1,2,0)),\n",
    "    method='heat_map',\n",
    "    cmap=default_cmap,\n",
    "    show_colorbar=True,\n",
    "    sign='positive',\n",
    "    outlier_perc=1\n",
    ")"
   ]
  },
  {
   "cell_type": "code",
   "execution_count": null,
   "id": "52793b4d",
   "metadata": {},
   "outputs": [],
   "source": [
    "# plt.matshow(attr_ig_nt.permute(0, 2, 3, 1).detach().cpu().numpy()[0])\n",
    "\n",
    "default_cmap = LinearSegmentedColormap.from_list(\n",
    "    'custom blue', \n",
    "    [(0, '#ffffff'), (0.25, '#000000'), (1, '#000000')], \n",
    "    N=256\n",
    ")\n",
    "\n",
    "_ = viz.visualize_image_attr(\n",
    "    np.transpose(attr_ig_nt.squeeze().cpu().detach().numpy(), (1,2,0)),\n",
    "    np.transpose(features.squeeze().cpu().detach().numpy(), (1,2,0)),\n",
    "    method='heat_map',\n",
    "    cmap=default_cmap,\n",
    "    show_colorbar=True,\n",
    "    sign='positive',\n",
    "    outlier_perc=1\n",
    ")"
   ]
  },
  {
   "cell_type": "markdown",
   "id": "26aed64e",
   "metadata": {},
   "source": [
    "#### Comparison"
   ]
  },
  {
   "cell_type": "code",
   "execution_count": null,
   "id": "7465bde2",
   "metadata": {},
   "outputs": [],
   "source": [
    "fig, axs = plt.subplots(1, 4, figsize=(21, 9))\n",
    "\n",
    "default_cmap = LinearSegmentedColormap.from_list(\n",
    "    'custom blue', \n",
    "    [(0, '#ffffff'), (0.25, '#000000'), (1, '#000000')], \n",
    "    N=256\n",
    ")\n",
    "\n",
    "axs[0].imshow(\n",
    "    unnormalize(\n",
    "        features[0].detach(), \n",
    "        (0.5, 0.5, 0.5), \n",
    "        (0.5, 0.5, 0.5)\n",
    "    ).permute(1, 2, 0)\n",
    ")\n",
    "\n",
    "for i, show_attr in enumerate([grads, attr_ig, attr_ig_nt]):\n",
    "    _ = viz.visualize_image_attr(\n",
    "        np.transpose(show_attr.squeeze().cpu().detach().numpy(), (1,2,0)),\n",
    "        np.transpose(features.squeeze().cpu().detach().numpy(), (1,2,0)),\n",
    "        method='heat_map',\n",
    "        cmap=default_cmap,\n",
    "        show_colorbar=True,\n",
    "        sign='positive',\n",
    "        outlier_perc=1,\n",
    "        plt_fig_axis=(fig, axs[i+1]),\n",
    "        use_pyplot=False,\n",
    "    )\n",
    "\n",
    "plt.show()"
   ]
  },
  {
   "cell_type": "markdown",
   "id": "e970f9e4",
   "metadata": {},
   "source": [
    "### Video"
   ]
  },
  {
   "cell_type": "code",
   "execution_count": null,
   "id": "52f8193d",
   "metadata": {},
   "outputs": [],
   "source": [
    "from introspection.datasets import TemporalDataset\n",
    "from introspection.settings import DATA_ROOT\n",
    "\n",
    "valid_csv = pd.read_csv(\n",
    "    f\"{DATA_ROOT}/UCF11_updated_mpg_clean/valid.csv\",\n",
    "    header=None,\n",
    "    names=[\"path\", \"class\", \"length\"],\n",
    ")\n",
    "\n",
    "num_segments = 1\n",
    "assert num_segments == 1\n",
    "segment_len = 5\n",
    "valid_dataset = TemporalDataset(\n",
    "    valid_csv,\n",
    "    f\"{DATA_ROOT}/UCF11_updated_mpg\",\n",
    "    num_segments=num_segments,\n",
    "    segment_len=segment_len,\n",
    ")"
   ]
  },
  {
   "cell_type": "code",
   "execution_count": null,
   "id": "8826584f",
   "metadata": {},
   "outputs": [],
   "source": [
    "features, label = valid_dataset[0]\n",
    "\n",
    "features = torch.tensor(features).unsqueeze(0)\n",
    "features.requires_grad = True\n",
    "\n",
    "label = torch.tensor(label).unsqueeze(0)"
   ]
  },
  {
   "cell_type": "code",
   "execution_count": null,
   "id": "2c1df464",
   "metadata": {},
   "outputs": [],
   "source": [
    "features.shape"
   ]
  },
  {
   "cell_type": "code",
   "execution_count": null,
   "id": "925ea652",
   "metadata": {},
   "outputs": [],
   "source": [
    "fig, axs = plt.subplots(num_segments, segment_len, figsize=(21, 9))\n",
    "for i in range(num_segments):\n",
    "    for j in range(segment_len):\n",
    "        axs[j].imshow(features[0, i*num_segments+j].detach().permute(1, 2, 0))\n",
    "\n",
    "plt.show()"
   ]
  },
  {
   "cell_type": "code",
   "execution_count": null,
   "id": "e3bb959d",
   "metadata": {},
   "outputs": [],
   "source": [
    "from introspection.modules import TemporalResNet\n",
    "\n",
    "logdir = \"../logs/.../\"\n",
    "checkpoint = utils.load_checkpoint(f\"{logdir}/checkpoints/best.pth\")\n",
    "model = TemporalResNet(emb_features=256, out_features=11)\n",
    "utils.unpack_checkpoint(checkpoint, model=model)\n",
    "model = ModelWrapper(model)"
   ]
  },
  {
   "cell_type": "code",
   "execution_count": null,
   "id": "f1df6e04",
   "metadata": {},
   "outputs": [],
   "source": [
    "saliency = Saliency(model)\n",
    "grads = saliency.attribute(features, target=label.item())\n",
    "# grads = np.transpose(grads.squeeze().cpu().detach().numpy(), (1, 2, 0))"
   ]
  },
  {
   "cell_type": "code",
   "execution_count": null,
   "id": "b8171516",
   "metadata": {},
   "outputs": [],
   "source": [
    "ig = IntegratedGradients(model)\n",
    "attr_ig, delta = attribute_image_features(\n",
    "    ig, \n",
    "    model,\n",
    "    features, \n",
    "    label,\n",
    "    baselines=features * 0, \n",
    "    return_convergence_delta=True\n",
    ")\n",
    "# attr_ig = np.transpose(attr_ig.squeeze().cpu().detach().numpy(), (1, 2, 0))\n",
    "print('Approximation delta: ', abs(delta))"
   ]
  },
  {
   "cell_type": "code",
   "execution_count": null,
   "id": "e49b86c1",
   "metadata": {},
   "outputs": [],
   "source": [
    "ig = IntegratedGradients(model)\n",
    "nt = NoiseTunnel(ig)\n",
    "attr_ig_nt = attribute_image_features(\n",
    "    nt, \n",
    "    model,\n",
    "    features, \n",
    "    label,\n",
    "    baselines=features * 0, \n",
    "    nt_type='smoothgrad_sq',\n",
    "    nt_samples=5, \n",
    "    stdevs=0.2\n",
    ")"
   ]
  },
  {
   "cell_type": "code",
   "execution_count": null,
   "id": "940fdfd1",
   "metadata": {},
   "outputs": [],
   "source": [
    "fig, axs = plt.subplots(num_segments, segment_len, figsize=(21, 9))\n",
    "for i in range(num_segments):\n",
    "    for j in range(segment_len):\n",
    "        axs[j].imshow(features[0, i*num_segments+j].detach().permute(1, 2, 0))\n",
    "\n",
    "plt.show()"
   ]
  },
  {
   "cell_type": "code",
   "execution_count": null,
   "id": "9345b626",
   "metadata": {},
   "outputs": [],
   "source": [
    "# plt.matshow(grads.permute(0, 2, 3, 1).detach().cpu().numpy()[0])\n",
    "fig, axs = plt.subplots(num_segments, segment_len, figsize=(21, 9))\n",
    "\n",
    "default_cmap = LinearSegmentedColormap.from_list(\n",
    "    'custom blue', \n",
    "    [(0, '#ffffff'), (0.25, '#000000'), (1, '#000000')], \n",
    "    N=256\n",
    ")\n",
    "\n",
    "for i in range(num_segments):\n",
    "    for j in range(segment_len):\n",
    "#         axs[i, j].imshow(grads[0, i*num_segments+j].detach().permute(1, 2, 0))\n",
    "        _ = viz.visualize_image_attr(\n",
    "            np.transpose(grads[0, i*num_segments+j].cpu().detach().numpy(), (1,2,0)),\n",
    "            np.transpose(features[0, i*num_segments+j].cpu().detach().numpy(), (1,2,0)),\n",
    "            method='heat_map',\n",
    "            cmap=default_cmap,\n",
    "            show_colorbar=True,\n",
    "            sign='positive',\n",
    "            outlier_perc=1,\n",
    "            plt_fig_axis=(fig, axs[j]),\n",
    "            use_pyplot=False,\n",
    "        )\n",
    "\n",
    "plt.show()"
   ]
  },
  {
   "cell_type": "code",
   "execution_count": null,
   "id": "79ba99ce",
   "metadata": {},
   "outputs": [],
   "source": [
    "# plt.matshow(attr_ig.permute(0, 2, 3, 1).detach().cpu().numpy()[0])\n",
    "fig, axs = plt.subplots(num_segments, segment_len, figsize=(21, 9))\n",
    "\n",
    "default_cmap = LinearSegmentedColormap.from_list(\n",
    "    'custom blue', \n",
    "    [(0, '#ffffff'), (0.25, '#000000'), (1, '#000000')], \n",
    "    N=256\n",
    ")\n",
    "\n",
    "for i in range(num_segments):\n",
    "    for j in range(segment_len):\n",
    "#         axs[i, j].imshow(attr_ig[0, i*num_segments+j].detach().permute(1, 2, 0))\n",
    "        _ = viz.visualize_image_attr(\n",
    "            np.transpose(attr_ig[0, i*num_segments+j].cpu().detach().numpy(), (1,2,0)),\n",
    "            np.transpose(features[0, i*num_segments+j].cpu().detach().numpy(), (1,2,0)),\n",
    "            method='heat_map',\n",
    "            cmap=default_cmap,\n",
    "            show_colorbar=True,\n",
    "            sign='positive',\n",
    "            outlier_perc=1,\n",
    "            plt_fig_axis=(fig, axs[j]),\n",
    "            use_pyplot=False,\n",
    "        )\n",
    "\n",
    "plt.show()"
   ]
  },
  {
   "cell_type": "code",
   "execution_count": null,
   "id": "543c5f27",
   "metadata": {},
   "outputs": [],
   "source": [
    "fig, axs = plt.subplots(num_segments, segment_len, figsize=(21, 9))\n",
    "\n",
    "default_cmap = LinearSegmentedColormap.from_list(\n",
    "    'custom blue', \n",
    "    [(0, '#ffffff'), (0.25, '#000000'), (1, '#000000')], \n",
    "    N=256\n",
    ")\n",
    "\n",
    "for i in range(num_segments):\n",
    "    for j in range(segment_len):\n",
    "        _ = viz.visualize_image_attr(\n",
    "            np.transpose(attr_ig_nt[0, i*num_segments+j].cpu().detach().numpy(), (1,2,0)),\n",
    "            np.transpose(features[0, i*num_segments+j].cpu().detach().numpy(), (1,2,0)),\n",
    "            method='heat_map',\n",
    "            cmap=default_cmap,\n",
    "            show_colorbar=True,\n",
    "            sign='positive',\n",
    "            outlier_perc=1,\n",
    "            plt_fig_axis=(fig, axs[j]),\n",
    "            use_pyplot=False,\n",
    "        )\n",
    "\n",
    "plt.show()"
   ]
  },
  {
   "cell_type": "markdown",
   "id": "1eb67969",
   "metadata": {},
   "source": [
    "#### Comparison"
   ]
  },
  {
   "cell_type": "code",
   "execution_count": null,
   "id": "be4e9007",
   "metadata": {},
   "outputs": [],
   "source": [
    "fig, axs = plt.subplots(4, segment_len, figsize=(21, 9))\n",
    "\n",
    "default_cmap = LinearSegmentedColormap.from_list(\n",
    "    'custom blue', \n",
    "    [(0, '#ffffff'), (0.25, '#000000'), (1, '#000000')], \n",
    "    N=256\n",
    ")\n",
    "\n",
    "for j in range(segment_len):\n",
    "    axs[0, j].imshow(features[0, j].detach().permute(1, 2, 0))\n",
    "\n",
    "for i, show_attr in enumerate([grads, attr_ig, attr_ig_nt]):\n",
    "    for j in range(segment_len):\n",
    "        _ = viz.visualize_image_attr(\n",
    "            np.transpose(show_attr[0, j].cpu().detach().numpy(), (1,2,0)),\n",
    "            np.transpose(features[0, j].cpu().detach().numpy(), (1,2,0)),\n",
    "            method='heat_map',\n",
    "            cmap=default_cmap,\n",
    "            show_colorbar=True,\n",
    "            sign='positive',\n",
    "            outlier_perc=1,\n",
    "            plt_fig_axis=(fig, axs[i+1, j]),\n",
    "            use_pyplot=False,\n",
    "        )\n",
    "\n",
    "plt.show()"
   ]
  },
  {
   "cell_type": "markdown",
   "id": "145800f7",
   "metadata": {},
   "source": [
    "### Video-features"
   ]
  },
  {
   "cell_type": "code",
   "execution_count": null,
   "id": "b93ed582",
   "metadata": {},
   "outputs": [],
   "source": [
    "from introspection.datasets import TemporalDataset\n",
    "from introspection.settings import DATA_ROOT\n",
    "\n",
    "valid_csv = pd.read_csv(\n",
    "    f\"{DATA_ROOT}/UCF11_updated_mpg_clean/valid.csv\",\n",
    "    header=None,\n",
    "    names=[\"path\", \"class\", \"length\"],\n",
    ")\n",
    "\n",
    "valid_dataset = TemporalDataset(\n",
    "    valid_csv,\n",
    "    f\"{DATA_ROOT}/UCF11_updated_mpg\",\n",
    "    num_segments=None,\n",
    "    segment_len=None,\n",
    ")"
   ]
  },
  {
   "cell_type": "code",
   "execution_count": null,
   "id": "9cc75c0f",
   "metadata": {},
   "outputs": [],
   "source": [
    "features, label = valid_dataset[0]\n",
    "\n",
    "features = torch.tensor(features).unsqueeze(0)\n",
    "features.requires_grad = True\n",
    "\n",
    "label = torch.tensor(label).unsqueeze(0)"
   ]
  },
  {
   "cell_type": "code",
   "execution_count": null,
   "id": "d4a947dc",
   "metadata": {},
   "outputs": [],
   "source": [
    "features.shape"
   ]
  },
  {
   "cell_type": "code",
   "execution_count": null,
   "id": "76483b0c",
   "metadata": {},
   "outputs": [],
   "source": [
    "from introspection.modules import TemporalResNet\n",
    "\n",
    "logdir = \"../logs/.../\"\n",
    "checkpoint = utils.load_checkpoint(f\"{logdir}/checkpoints/best.pth\")\n",
    "model = TemporalResNet(emb_features=256, out_features=11)\n",
    "utils.unpack_checkpoint(checkpoint, model=model)\n",
    "\n",
    "encoder = EncoderWrapper(model)\n",
    "head = HeadWrapper(model)\n",
    "model = ModelWrapper(model)"
   ]
  },
  {
   "cell_type": "code",
   "execution_count": null,
   "id": "f1012632",
   "metadata": {},
   "outputs": [],
   "source": [
    "features2 = encoder(features)"
   ]
  },
  {
   "cell_type": "code",
   "execution_count": null,
   "id": "b1666bd1",
   "metadata": {},
   "outputs": [],
   "source": [
    "features2.shape"
   ]
  },
  {
   "cell_type": "code",
   "execution_count": null,
   "id": "d1c47d09",
   "metadata": {},
   "outputs": [],
   "source": [
    "saliency = Saliency(head)\n",
    "grads = saliency.attribute(features2, target=label.item())\n",
    "# grads = np.transpose(grads.squeeze().cpu().detach().numpy(), (1, 2, 0))"
   ]
  },
  {
   "cell_type": "code",
   "execution_count": null,
   "id": "11c4e4bb",
   "metadata": {},
   "outputs": [],
   "source": [
    "ig = IntegratedGradients(head)\n",
    "attr_ig, delta = attribute_image_features(\n",
    "    ig, \n",
    "    head,\n",
    "    features2, \n",
    "    label,\n",
    "    baselines=features2 * 0, \n",
    "    return_convergence_delta=True\n",
    ")\n",
    "# attr_ig = np.transpose(attr_ig.squeeze().cpu().detach().numpy(), (1, 2, 0))\n",
    "print('Approximation delta: ', abs(delta))"
   ]
  },
  {
   "cell_type": "code",
   "execution_count": null,
   "id": "afc9a26c",
   "metadata": {},
   "outputs": [],
   "source": [
    "ig = IntegratedGradients(head)\n",
    "nt = NoiseTunnel(ig)\n",
    "attr_ig_nt = attribute_image_features(\n",
    "    nt, \n",
    "    head,\n",
    "    features2, \n",
    "    label,\n",
    "    baselines=features2 * 0, \n",
    "    nt_type='smoothgrad_sq',\n",
    "    nt_samples=5, \n",
    "    stdevs=0.2\n",
    ")"
   ]
  },
  {
   "cell_type": "code",
   "execution_count": null,
   "id": "425109c3",
   "metadata": {},
   "outputs": [],
   "source": [
    "# plt.matshow(grads.permute(0, 2, 3, 1).detach().cpu().numpy()[0])\n",
    "fig, axs = plt.subplots(1, 1, figsize=(21, 9))\n",
    "\n",
    "default_cmap = LinearSegmentedColormap.from_list(\n",
    "    'custom blue', \n",
    "    [(0, '#ffffff'), (0.25, '#000000'), (1, '#000000')], \n",
    "    N=256\n",
    ")\n",
    "\n",
    "# transpose to [num_features; time_len; 1]\n",
    "_ = viz.visualize_image_attr(\n",
    "    np.transpose(grads.cpu().detach().numpy(), (2,1,0)),\n",
    "    np.transpose(features2.cpu().detach().numpy(), (2,1,0)),  \n",
    "    method='heat_map',\n",
    "    cmap=default_cmap,\n",
    "    show_colorbar=True,\n",
    "    sign='positive',\n",
    "    outlier_perc=1,\n",
    "    plt_fig_axis=(fig, axs),\n",
    "    use_pyplot=False,\n",
    ")\n",
    "\n",
    "plt.show()"
   ]
  },
  {
   "cell_type": "code",
   "execution_count": null,
   "id": "fa016139",
   "metadata": {},
   "outputs": [],
   "source": [
    "# plt.matshow(attr_ig.permute(0, 2, 3, 1).detach().cpu().numpy()[0])\n",
    "fig, axs = plt.subplots(1, 1, figsize=(21, 9))\n",
    "\n",
    "default_cmap = LinearSegmentedColormap.from_list(\n",
    "    'custom blue', \n",
    "    [(0, '#ffffff'), (0.25, '#000000'), (1, '#000000')], \n",
    "    N=256\n",
    ")\n",
    "\n",
    "_ = viz.visualize_image_attr(\n",
    "    np.transpose(attr_ig.cpu().detach().numpy(), (2,1,0)),\n",
    "    np.transpose(features2.cpu().detach().numpy(), (2,1,0)),\n",
    "    method='heat_map',\n",
    "    cmap=default_cmap,\n",
    "    show_colorbar=True,\n",
    "    sign='positive',\n",
    "    outlier_perc=1,\n",
    "    plt_fig_axis=(fig, axs),\n",
    "    use_pyplot=False,\n",
    ")\n",
    "\n",
    "plt.show()"
   ]
  },
  {
   "cell_type": "code",
   "execution_count": null,
   "id": "b4ed3211",
   "metadata": {},
   "outputs": [],
   "source": [
    "fig, axs = plt.subplots(1, 1, figsize=(21, 9))\n",
    "\n",
    "default_cmap = LinearSegmentedColormap.from_list(\n",
    "    'custom blue', \n",
    "    [(0, '#ffffff'), (0.25, '#000000'), (1, '#000000')], \n",
    "    N=256\n",
    ")\n",
    "\n",
    "_ = viz.visualize_image_attr(\n",
    "    np.transpose(attr_ig_nt.cpu().detach().numpy(), (2,1,0)),\n",
    "    np.transpose(features2.cpu().detach().numpy(), (2,1,0)),\n",
    "    method='heat_map',\n",
    "    cmap=default_cmap,\n",
    "    show_colorbar=True,\n",
    "    sign='positive',\n",
    "    outlier_perc=1,\n",
    "    plt_fig_axis=(fig, axs),\n",
    "    use_pyplot=False,\n",
    ")\n",
    "\n",
    "plt.show()"
   ]
  },
  {
   "cell_type": "markdown",
   "id": "b08c7409",
   "metadata": {},
   "source": [
    "#### TopK video-features"
   ]
  },
  {
   "cell_type": "code",
   "execution_count": null,
   "id": "abcc3ddc",
   "metadata": {},
   "outputs": [],
   "source": [
    "# [num_features; time_len; 1]\n",
    "# -> [num_features; time_len;]\n",
    "# -> [num_features;]\n",
    "# -> softmax\n",
    "# aka feature attention\n",
    "attn_feat = attr_ig.permute((2, 1, 0)).squeeze(-1).sum(-1).softmax(-1)"
   ]
  },
  {
   "cell_type": "code",
   "execution_count": null,
   "id": "f4d770b8",
   "metadata": {},
   "outputs": [],
   "source": [
    "# [num_features; time_len; 1]\n",
    "# -> [num_features; time_len;]\n",
    "# -> [time_len;]\n",
    "# -> softmax\n",
    "# aka time attention\n",
    "attn_time = attr_ig.permute((2, 1, 0)).squeeze(-1).sum(0).softmax(-1)"
   ]
  },
  {
   "cell_type": "code",
   "execution_count": null,
   "id": "e40319bd",
   "metadata": {},
   "outputs": [],
   "source": [
    "num_segments = 1\n",
    "segment_len = 5\n",
    "topk_attn_time = attn_time.topk(segment_len).indices"
   ]
  },
  {
   "cell_type": "code",
   "execution_count": null,
   "id": "e67136f1",
   "metadata": {},
   "outputs": [],
   "source": [
    "features3 = features[:, topk_attn_time, :, :, :]"
   ]
  },
  {
   "cell_type": "code",
   "execution_count": null,
   "id": "de941650",
   "metadata": {},
   "outputs": [],
   "source": [
    "features3.shape"
   ]
  },
  {
   "cell_type": "code",
   "execution_count": null,
   "id": "76bf6229",
   "metadata": {},
   "outputs": [],
   "source": [
    "fig, axs = plt.subplots(num_segments, segment_len, figsize=(21, 9))\n",
    "for i in range(num_segments):\n",
    "    for j in range(segment_len):\n",
    "        axs[j].imshow(features3[0, i*num_segments+j].detach().permute(1, 2, 0))\n",
    "\n",
    "plt.show()"
   ]
  },
  {
   "cell_type": "code",
   "execution_count": null,
   "id": "edbf99c1",
   "metadata": {},
   "outputs": [],
   "source": [
    "saliency = Saliency(model)\n",
    "grads = saliency.attribute(features3, target=label.item())\n",
    "# grads = np.transpose(grads.squeeze().cpu().detach().numpy(), (1, 2, 0))"
   ]
  },
  {
   "cell_type": "code",
   "execution_count": null,
   "id": "fa07853a",
   "metadata": {},
   "outputs": [],
   "source": [
    "ig = IntegratedGradients(model)\n",
    "attr_ig, delta = attribute_image_features(\n",
    "    ig, \n",
    "    model,\n",
    "    features3, \n",
    "    label,\n",
    "    baselines=features3 * 0, \n",
    "    return_convergence_delta=True\n",
    ")\n",
    "# attr_ig = np.transpose(attr_ig.squeeze().cpu().detach().numpy(), (1, 2, 0))\n",
    "print('Approximation delta: ', abs(delta))"
   ]
  },
  {
   "cell_type": "code",
   "execution_count": null,
   "id": "96d2c55f",
   "metadata": {},
   "outputs": [],
   "source": [
    "ig = IntegratedGradients(model)\n",
    "nt = NoiseTunnel(ig)\n",
    "attr_ig_nt = attribute_image_features(\n",
    "    nt, \n",
    "    model,\n",
    "    features3, \n",
    "    label,\n",
    "    baselines=features3 * 0, \n",
    "    nt_type='smoothgrad_sq',\n",
    "    nt_samples=5, \n",
    "    stdevs=0.2\n",
    ")"
   ]
  },
  {
   "cell_type": "code",
   "execution_count": null,
   "id": "0c7c5dac",
   "metadata": {},
   "outputs": [],
   "source": [
    "fig, axs = plt.subplots(4, segment_len, figsize=(21, 9))\n",
    "\n",
    "default_cmap = LinearSegmentedColormap.from_list(\n",
    "    'custom blue', \n",
    "    [(0, '#ffffff'), (0.25, '#000000'), (1, '#000000')], \n",
    "    N=256\n",
    ")\n",
    "\n",
    "for j in range(segment_len):\n",
    "    axs[0, j].imshow(features3[0, j].detach().permute(1, 2, 0))\n",
    "\n",
    "for i, show_attr in enumerate([grads, attr_ig, attr_ig_nt]):\n",
    "    for j in range(segment_len):\n",
    "        _ = viz.visualize_image_attr(\n",
    "            np.transpose(show_attr[0, j].cpu().detach().numpy(), (1,2,0)),\n",
    "            np.transpose(features3[0, j].cpu().detach().numpy(), (1,2,0)),\n",
    "            method='heat_map',\n",
    "            cmap=default_cmap,\n",
    "            show_colorbar=True,\n",
    "            sign='positive',\n",
    "            outlier_perc=1,\n",
    "            plt_fig_axis=(fig, axs[i+1, j]),\n",
    "            use_pyplot=False,\n",
    "        )\n",
    "\n",
    "plt.show()"
   ]
  },
  {
   "cell_type": "markdown",
   "id": "4f8d4cff",
   "metadata": {},
   "source": [
    "----\n",
    "\n",
    "## TS-based"
   ]
  },
  {
   "cell_type": "code",
   "execution_count": 4,
   "id": "6dece95e",
   "metadata": {},
   "outputs": [],
   "source": [
    "from src.settings import DATA_ROOT, LOGS_ROOT\n",
    "from src.ts import load_ABIDE1\n"
   ]
  },
  {
   "cell_type": "code",
   "execution_count": 5,
   "id": "11699e73",
   "metadata": {},
   "outputs": [],
   "source": [
    "features, labels = load_ABIDE1()\n",
    "features = np.swapaxes(features, 1, 2)  # [n_samples; seq_len; n_features]"
   ]
  },
  {
   "cell_type": "code",
   "execution_count": 6,
   "id": "be73cdb2",
   "metadata": {},
   "outputs": [],
   "source": [
    "feature, label = features[0].astype(np.float32), labels[0].astype(np.int64)\n",
    "feature = torch.tensor(feature).unsqueeze(0)\n",
    "feature.requires_grad = True\n",
    "label = torch.tensor(label).unsqueeze(0)"
   ]
  },
  {
   "cell_type": "code",
   "execution_count": 7,
   "id": "ec9ddbf1",
   "metadata": {},
   "outputs": [
    {
     "data": {
      "text/plain": [
       "(torch.Size([1, 140, 53]), torch.Size([1]))"
      ]
     },
     "execution_count": 7,
     "metadata": {},
     "output_type": "execute_result"
    }
   ],
   "source": [
    "feature.shape, label.shape"
   ]
  },
  {
   "cell_type": "code",
   "execution_count": 8,
   "id": "17663425",
   "metadata": {},
   "outputs": [],
   "source": [
    "from src.scripts.tune_ts_mlp import MLP\n",
    "# AUC: 0.7245564892623717\n",
    "model = MLP(\n",
    "    input_size=53, \n",
    "    hidden_size=226, \n",
    "    num_layers=3, \n",
    "    dropout=0.11460896393341634,\n",
    ")\n",
    "logdir = LOGS_ROOT.joinpath(\"220421.175353-ts-mlp-qFalse/0008/model.best.pth\")\n",
    "checkpoint = torch.load(logdir, map_location=lambda storage, loc: storage)\n",
    "model.load_state_dict(checkpoint)\n",
    "model = model.eval()\n",
    "# ATTENTION: captum model should have [bs; ...] inputs and [bs; ...] outputs\n",
    "# output = torch.sigmoid(model(feature))"
   ]
  },
  {
   "cell_type": "code",
   "execution_count": null,
   "id": "9de9245f",
   "metadata": {},
   "outputs": [],
   "source": [
    "# from src.scripts.tune_ts_lstm import LSTM\n",
    "# # AUC: 0.60286336756925\n",
    "# model = LSTM(\n",
    "#     input_size=53, \n",
    "#     hidden_size=97,\n",
    "#     bidirectional=True,\n",
    "#     num_layers=2,\n",
    "#     fc_dropout=0.10739340844527928,\n",
    "# )\n",
    "# logdir = LOGS_ROOT.joinpath(\"220421.175503-ts-lstm-qFalse/0009/model.best.pth\")\n",
    "# checkpoint = torch.load(logdir, map_location=lambda storage, loc: storage)\n",
    "# model.load_state_dict(checkpoint)\n",
    "# # # ATTENTION: captum model should have [bs; ...] inputs and [bs; ...] outputs\n",
    "# # output = torch.sigmoid(model(feature))"
   ]
  },
  {
   "cell_type": "code",
   "execution_count": null,
   "id": "24d2a444",
   "metadata": {},
   "outputs": [],
   "source": [
    "# from src.scripts.tune_ts_transformer import Transformer\n",
    "# # AUC: \n",
    "# model = Transformer(\n",
    "#     input_size=53, \n",
    "#     hidden_size=6 * 2, \n",
    "#     num_heads=2, \n",
    "#     num_layers=3, \n",
    "#     fc_dropout=0.3367242991440482,\n",
    "# )\n",
    "# logdir = LOGS_ROOT.joinpath(\"220417.103843-ts-transformer-qFalse/0005/model.best.pth\")\n",
    "# checkpoint = torch.load(logdir, map_location=lambda storage, loc: storage)\n",
    "# model.load_state_dict(checkpoint)\n",
    "# # ATTENTION: captum model should have [bs; ...] inputs and [bs; ...] outputs\n",
    "# # output = torch.sigmoid(model(feature))"
   ]
  },
  {
   "cell_type": "code",
   "execution_count": 9,
   "id": "06cd0a5c",
   "metadata": {},
   "outputs": [],
   "source": [
    "\n",
    "saliency = Saliency(model)\n",
    "model.zero_grad()\n",
    "grads = saliency.attribute(feature, target=label.item())"
   ]
  },
  {
   "cell_type": "code",
   "execution_count": 10,
   "id": "dc0617f6",
   "metadata": {},
   "outputs": [
    {
     "data": {
      "image/png": "[encoded data removed]",
      "text/plain": [
       "<Figure size 1512x648 with 2 Axes>"
      ]
     },
     "metadata": {},
     "output_type": "display_data"
    }
   ],
   "source": [
    "# plt.matshow(grads.permute(0, 2, 3, 1).detach().cpu().numpy()[0])\n",
    "fig, axs = plt.subplots(1, 1, figsize=(21, 9))\n",
    "\n",
    "default_cmap = LinearSegmentedColormap.from_list(\n",
    "    'custom blue', \n",
    "    [(0, '#ffffff'), (0.25, '#000000'), (1, '#000000')], \n",
    "    N=256\n",
    ")\n",
    "\n",
    "# transpose to [num_features; time_len; 1]\n",
    "_ = viz.visualize_image_attr(\n",
    "    np.transpose(grads.cpu().detach().numpy(), (2,1,0)),\n",
    "    np.transpose(feature.cpu().detach().numpy(), (2,1,0)),  \n",
    "    method='heat_map',\n",
    "    cmap=default_cmap,\n",
    "    show_colorbar=True,\n",
    "    sign='positive',\n",
    "    outlier_perc=1,\n",
    "    plt_fig_axis=(fig, axs),\n",
    "    use_pyplot=False,\n",
    ")\n",
    "\n",
    "plt.show()"
   ]
  },
  {
   "cell_type": "code",
   "execution_count": 11,
   "id": "9cc1198e",
   "metadata": {},
   "outputs": [
    {
     "name": "stdout",
     "output_type": "stream",
     "text": [
      "Approximation delta:  tensor([0.8371], dtype=torch.float64)\n"
     ]
    }
   ],
   "source": [
    "\n",
    "ig = IntegratedGradients(model)\n",
    "model.zero_grad()\n",
    "attr_ig, delta = ig.attribute(\n",
    "    inputs=feature,\n",
    "    target=label.item(),\n",
    "    baselines=torch.zeros_like(feature),\n",
    "    return_convergence_delta=True,\n",
    ")\n",
    "\n",
    "# attr_ig = np.transpose(attr_ig.squeeze().cpu().detach().numpy(), (1, 2, 0))\n",
    "print('Approximation delta: ', abs(delta))"
   ]
  },
  {
   "cell_type": "code",
   "execution_count": 12,
   "id": "e81d99a3",
   "metadata": {},
   "outputs": [
    {
     "data": {
      "image/png": "[encoded data removed]",
      "text/plain": [
       "<Figure size 1512x648 with 2 Axes>"
      ]
     },
     "metadata": {},
     "output_type": "display_data"
    }
   ],
   "source": [
    "# plt.matshow(attr_ig.permute(0, 2, 3, 1).detach().cpu().numpy()[0])\n",
    "fig, axs = plt.subplots(1, 1, figsize=(21, 9))\n",
    "\n",
    "default_cmap = LinearSegmentedColormap.from_list(\n",
    "    'custom blue', \n",
    "    [(0, '#ffffff'), (0.25, '#000000'), (1, '#000000')], \n",
    "    N=256\n",
    ")\n",
    "\n",
    "_ = viz.visualize_image_attr(\n",
    "    np.transpose(attr_ig.cpu().detach().numpy(), (2,1,0)),\n",
    "    np.transpose(feature.cpu().detach().numpy(), (2,1,0)),\n",
    "    method='heat_map',\n",
    "    cmap=default_cmap,\n",
    "    show_colorbar=True,\n",
    "    sign='positive',\n",
    "    outlier_perc=1,\n",
    "    plt_fig_axis=(fig, axs),\n",
    "    use_pyplot=False,\n",
    ")\n",
    "\n",
    "plt.show()"
   ]
  },
  {
   "cell_type": "code",
   "execution_count": 13,
   "id": "04d37cda",
   "metadata": {},
   "outputs": [
    {
     "name": "stdout",
     "output_type": "stream",
     "text": [
      "Approximation delta:  tensor([0.6672, 1.3629, 1.1235, 1.1473, 0.6544], dtype=torch.float64)\n"
     ]
    }
   ],
   "source": [
    "ig = IntegratedGradients(model)\n",
    "nt = NoiseTunnel(ig)\n",
    "model.zero_grad()\n",
    "attr_ig_nt, delta = nt.attribute(\n",
    "    inputs=feature,\n",
    "    target=label.item(),\n",
    "    baselines=torch.zeros_like(feature),\n",
    "    return_convergence_delta=True,\n",
    "    nt_type='smoothgrad_sq',\n",
    "    nt_samples=5, \n",
    "    stdevs=0.2\n",
    ")\n",
    "print('Approximation delta: ', abs(delta))"
   ]
  },
  {
   "cell_type": "code",
   "execution_count": 14,
   "id": "39a677f4",
   "metadata": {},
   "outputs": [
    {
     "data": {
      "image/png": "[encoded data removed]",
      "text/plain": [
       "<Figure size 1512x648 with 2 Axes>"
      ]
     },
     "metadata": {},
     "output_type": "display_data"
    }
   ],
   "source": [
    "fig, axs = plt.subplots(1, 1, figsize=(21, 9))\n",
    "\n",
    "default_cmap = LinearSegmentedColormap.from_list(\n",
    "    'custom blue', \n",
    "    [(0, '#ffffff'), (0.25, '#000000'), (1, '#000000')], \n",
    "    N=256\n",
    ")\n",
    "\n",
    "_ = viz.visualize_image_attr(\n",
    "    np.transpose(attr_ig_nt.cpu().detach().numpy(), (2,1,0)),\n",
    "    np.transpose(feature.cpu().detach().numpy(), (2,1,0)),\n",
    "    method='heat_map',\n",
    "    cmap=default_cmap,\n",
    "    show_colorbar=True,\n",
    "    sign='positive',\n",
    "    outlier_perc=1,\n",
    "    plt_fig_axis=(fig, axs),\n",
    "    use_pyplot=False,\n",
    ")\n",
    "\n",
    "plt.show()"
   ]
  },
  {
   "cell_type": "code",
   "execution_count": null,
   "id": "972bdaa7",
   "metadata": {},
   "outputs": [],
   "source": []
  }
 ],
 "metadata": {
  "interpreter": {
   "hash": "c0ffd7e4065b24b44b8bdafa0b1ab0a1116a1a2fbb1ea9932a9988df8c38c972"
  },
  "kernelspec": {
   "display_name": "Python [conda env:.conda-py37] *",
   "language": "python",
   "name": "python3"
  },
  "language_info": {
   "codemirror_mode": {
    "name": "ipython",
    "version": 3
   },
   "file_extension": ".py",
   "mimetype": "text/x-python",
   "name": "python",
   "nbconvert_exporter": "python",
   "pygments_lexer": "ipython3",
   "version": "3.8.13"
  }
 },
 "nbformat": 4,
 "nbformat_minor": 5
}
