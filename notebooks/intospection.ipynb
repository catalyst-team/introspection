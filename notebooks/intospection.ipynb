{
 "cells": [
  {
   "cell_type": "code",
   "execution_count": null,
   "id": "f8726307",
   "metadata": {},
   "outputs": [],
   "source": [
    "import os\n",
    "import sys\n",
    "import path\n",
    "os.environ[\"OMP_NUM_THREADS\"] = \"1\"\n",
    "os.environ[\"MKL_NUM_THREADS\"] = \"1\"\n",
    "sys.path.insert(0, path.Path(os.getcwd()).joinpath(\"..\").abspath())"
   ]
  },
  {
   "cell_type": "markdown",
   "id": "5f619199",
   "metadata": {},
   "source": [
    "### Image"
   ]
  },
  {
   "cell_type": "code",
   "execution_count": null,
   "id": "cc5ec261",
   "metadata": {},
   "outputs": [],
   "source": [
    "import os\n",
    "\n",
    "import torch\n",
    "\n",
    "from catalyst import utils\n",
    "from catalyst.data import transforms\n",
    "from catalyst.contrib.datasets import CIFAR10\n",
    "\n",
    "from captum.attr import visualization as viz\n",
    "from captum.attr import (\n",
    "    Saliency, \n",
    "    IntegratedGradients,\n",
    "    NoiseTunnel,\n",
    "    LayerGradCam, \n",
    "    FeatureAblation, \n",
    "    LayerActivation, \n",
    "    LayerAttribution\n",
    ")\n",
    "\n",
    "import matplotlib.pyplot as plt\n",
    "%matplotlib inline"
   ]
  },
  {
   "cell_type": "code",
   "execution_count": null,
   "id": "d4367fb4",
   "metadata": {},
   "outputs": [],
   "source": [
    "def unnormalize(tensor: torch.Tensor, mean, std, inplace=False):\n",
    "    \"\"\"Normalize a tensor image with mean and standard deviation.\n",
    "\n",
    "    .. note::\n",
    "        This transform acts out of place by default, i.e., it does not mutates the input tensor.\n",
    "\n",
    "    Args:\n",
    "        tensor: Tensor image of size (C, H, W) to be normalized.\n",
    "        mean: Sequence of means for each channel.\n",
    "        std: Sequence of standard deviations for each channel.\n",
    "        inplace(bool,optional): Bool to make this operation inplace.\n",
    "\n",
    "    Returns:\n",
    "        torch.Tensor: Normalized Tensor image.\n",
    "\n",
    "    Raises:\n",
    "        TypeError: if `tensor` is not torch.Tensor\n",
    "    \"\"\"\n",
    "    if not (torch.is_tensor(tensor) and tensor.ndimension() == 3):\n",
    "        raise TypeError(\"tensor is not a torch image.\")\n",
    "\n",
    "    if not inplace:\n",
    "        tensor = tensor.clone()\n",
    "\n",
    "    dtype = tensor.dtype\n",
    "    mean = torch.as_tensor(mean, dtype=dtype, device=tensor.device)\n",
    "    std = torch.as_tensor(std, dtype=dtype, device=tensor.device)\n",
    "    tensor.mul_(std[:, None, None]).add_(mean[:, None, None])\n",
    "    return tensor\n",
    "\n",
    "transform = transforms.Compose([\n",
    "    transforms.ToTensor(), \n",
    "    transforms.Normalize((0.5, 0.5, 0.5), (0.5, 0.5, 0.5))\n",
    "])\n",
    "valid_dataset = CIFAR10(os.getcwd(), train=False, download=True, transform=transform)"
   ]
  },
  {
   "cell_type": "code",
   "execution_count": null,
   "id": "e4c070c9",
   "metadata": {},
   "outputs": [],
   "source": [
    "features, label = valid_dataset[10]\n",
    "\n",
    "features = torch.tensor(features).unsqueeze(0)\n",
    "features.requires_grad = True\n",
    "\n",
    "label = torch.tensor(label).unsqueeze(0)"
   ]
  },
  {
   "cell_type": "code",
   "execution_count": null,
   "id": "2a101811",
   "metadata": {},
   "outputs": [],
   "source": [
    "plt.imshow(\n",
    "    unnormalize(\n",
    "        features[0].detach(), \n",
    "        (0.5, 0.5, 0.5), \n",
    "        (0.5, 0.5, 0.5)\n",
    "    ).permute(1, 2, 0)\n",
    ")"
   ]
  },
  {
   "cell_type": "code",
   "execution_count": null,
   "id": "1922a558",
   "metadata": {},
   "outputs": [],
   "source": [
    "from image.train import resnet9\n",
    "\n",
    "\n",
    "class ModelWrapper(torch.nn.Module):\n",
    "    def __init__(self, module):\n",
    "        super().__init__()\n",
    "        self.module = module\n",
    "    def forward(self, x):\n",
    "        _, y = self.module(x)\n",
    "        return y\n",
    "\n",
    "logdir = \"../logs/.../\"\n",
    "checkpoint = utils.load_checkpoint(f\"{logdir}/checkpoints/best.pth\")\n",
    "model = resnet9(in_channels=3, num_classes=10)\n",
    "utils.unpack_checkpoint(checkpoint, model=model)\n",
    "model = ModelWrapper(model)"
   ]
  },
  {
   "cell_type": "code",
   "execution_count": null,
   "id": "dd3dc884",
   "metadata": {},
   "outputs": [],
   "source": [
    "def attribute_image_features(algorithm, model, features, label, **kwargs):\n",
    "    model.zero_grad()\n",
    "    tensor_attributions = algorithm.attribute(\n",
    "        features,\n",
    "        target=label, \n",
    "        **kwargs\n",
    "    )\n",
    "    \n",
    "    return tensor_attributions"
   ]
  },
  {
   "cell_type": "code",
   "execution_count": null,
   "id": "2de0e345",
   "metadata": {},
   "outputs": [],
   "source": [
    "saliency = Saliency(model)\n",
    "grads = saliency.attribute(features, target=label.item())\n",
    "# grads = np.transpose(grads.squeeze().cpu().detach().numpy(), (1, 2, 0))"
   ]
  },
  {
   "cell_type": "code",
   "execution_count": null,
   "id": "87b5e46f",
   "metadata": {},
   "outputs": [],
   "source": [
    "ig = IntegratedGradients(model)\n",
    "attr_ig, delta = attribute_image_features(\n",
    "    ig, \n",
    "    model,\n",
    "    features, \n",
    "    label,\n",
    "    baselines=features * 0, \n",
    "    return_convergence_delta=True\n",
    ")\n",
    "# attr_ig = np.transpose(attr_ig.squeeze().cpu().detach().numpy(), (1, 2, 0))\n",
    "print('Approximation delta: ', abs(delta))"
   ]
  },
  {
   "cell_type": "code",
   "execution_count": null,
   "id": "301e779c",
   "metadata": {},
   "outputs": [],
   "source": [
    "ig = IntegratedGradients(model)\n",
    "nt = NoiseTunnel(ig)\n",
    "attr_ig_nt = attribute_image_features(\n",
    "    nt, \n",
    "    model,\n",
    "    features, \n",
    "    label,\n",
    "    baselines=features * 0, \n",
    "    nt_type='smoothgrad_sq',\n",
    "    nt_samples=100, \n",
    "    stdevs=0.2\n",
    ")"
   ]
  },
  {
   "cell_type": "code",
   "execution_count": null,
   "id": "1d680cbd",
   "metadata": {},
   "outputs": [],
   "source": [
    "plt.imshow(\n",
    "    unnormalize(\n",
    "        features[0].detach(), \n",
    "        (0.5, 0.5, 0.5), \n",
    "        (0.5, 0.5, 0.5)\n",
    "    ).permute(1, 2, 0)\n",
    ")"
   ]
  },
  {
   "cell_type": "code",
   "execution_count": null,
   "id": "572c5223",
   "metadata": {},
   "outputs": [],
   "source": [
    "plt.matshow(grads.permute(0, 2, 3, 1).detach().cpu().numpy()[0])"
   ]
  },
  {
   "cell_type": "code",
   "execution_count": null,
   "id": "207e1d87",
   "metadata": {},
   "outputs": [],
   "source": [
    "plt.matshow(attr_ig.permute(0, 2, 3, 1).detach().cpu().numpy()[0])"
   ]
  },
  {
   "cell_type": "code",
   "execution_count": null,
   "id": "0d2ff636",
   "metadata": {},
   "outputs": [],
   "source": [
    "plt.matshow(attr_ig_nt.permute(0, 2, 3, 1).detach().cpu().numpy()[0])"
   ]
  },
  {
   "cell_type": "markdown",
   "id": "e970f9e4",
   "metadata": {},
   "source": [
    "### Video"
   ]
  },
  {
   "cell_type": "code",
   "execution_count": null,
   "id": "52f8193d",
   "metadata": {},
   "outputs": [],
   "source": []
  }
 ],
 "metadata": {
  "kernelspec": {
   "display_name": "Python [conda env:.conda-py37] *",
   "language": "python",
   "name": "conda-env-.conda-py37-py"
  },
  "language_info": {
   "codemirror_mode": {
    "name": "ipython",
    "version": 3
   },
   "file_extension": ".py",
   "mimetype": "text/x-python",
   "name": "python",
   "nbconvert_exporter": "python",
   "pygments_lexer": "ipython3",
   "version": "3.7.10"
  }
 },
 "nbformat": 4,
 "nbformat_minor": 5
}
